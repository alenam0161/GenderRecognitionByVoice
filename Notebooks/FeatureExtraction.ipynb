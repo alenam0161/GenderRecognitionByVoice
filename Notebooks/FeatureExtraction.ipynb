{
 "cells": [
  {
   "cell_type": "code",
   "execution_count": 1,
   "metadata": {},
   "outputs": [],
   "source": [
    "import wave\n",
    "import sys\n",
    "import matplotlib.pyplot as plt\n",
    "from scipy.io.wavfile import read\n",
    "import librosa.display\n",
    "import numpy as np\n",
    "from scipy import stats\n",
    "from spafe.frequencies.fundamental_frequencies import FundamentalFrequenciesExtractor\n",
    "from spafe.frequencies.dominant_frequencies import get_dominant_frequencies \n",
    "from scipy.fft import fft,fftfreq,fftshift\n",
    "from spafe.features.spfeats import extract_feats\n",
    "import librosa\n",
    "import os\n",
    "import pandas as pd\n",
    "from tqdm import tqdm\n",
    "import re"
   ]
  },
  {
   "cell_type": "code",
   "execution_count": 318,
   "metadata": {},
   "outputs": [],
   "source": [
    "def spectral_properties(y: np.ndarray, fs: int) -> dict:\n",
    "    \"\"\" This function takes signal and its rate,\n",
    "    Outputs the feature values which we are going to explain here\"\"\"\n",
    "    spec = np.abs(np.fft.rfft(y)) # Uses one dimensional Fast Furie Transformation and finds the absolute value of it \n",
    "    freq = np.fft.rfftfreq(len(y), d=1 / fs) # Discrete fast furie transformation\n",
    "    amp = spec / spec.sum()\n",
    "    mean = (freq * amp).sum()\n",
    "    sd = np.sqrt(np.sum(amp * ((freq - mean) ** 2)))\n",
    "    amp_cumsum = np.cumsum(amp)\n",
    "    median = freq[len(amp_cumsum[amp_cumsum <= 0.5]) + 1]\n",
    "    mode_val = freq[amp.argmax()]\n",
    "    \n",
    "    Q25 = freq[len(amp_cumsum[amp_cumsum <= 0.25]) + 1]\n",
    "    Q75 = freq[len(amp_cumsum[amp_cumsum <= 0.75]) + 1]\n",
    "    IQR = Q75 - Q25\n",
    "    z = amp - amp.mean()\n",
    "    w = amp.std()\n",
    "    skew = ((z ** 3).sum() / (len(spec) - 1)) / w ** 3\n",
    "    kurt = ((z ** 4).sum() / (len(spec) - 1)) / w ** 4\n",
    "    sp_entr = -np.sum(amp*  np.log(amp))/np.log(len(amp))\n",
    "    \n",
    "    spectral_flatness = np.mean(librosa.feature.spectral_flatness(y,))\n",
    "    \n",
    "    fft_mode = np.mean(stats.mode(freq).mode)\n",
    "    fft_mode_max = np.max(stats.mode(freq).mode)\n",
    "    fft_mode_min = np.min(stats.mode(freq).mode)\n",
    "\n",
    "    normalized_frequencies = np.linspace(0, 1, len(spec))\n",
    "    spectral_centroid = np.sum(amp * normalized_frequencies)\n",
    "    \n",
    "    peakf = max(freq)\n",
    "    mnf = np.mean(freq)\n",
    "    \n",
    "    fund_freqs_extractor = FundamentalFrequenciesExtractor(debug = False)\n",
    "    pitches, harmonic_rates, argmins, times = fund_freqs_extractor.main(sig = y,fs = fs)\n",
    "    meanf = np.mean(pitches)\n",
    "    minf = min(pitches)\n",
    "    maxf = max(pitches)\n",
    "    \n",
    "    \n",
    "    dom_freq = get_dominant_frequencies(sig = np.array(y).reshape(-1,1),fs = int(fs),\n",
    "                                        lower_cutoff = 50,\n",
    "                                        upper_cutoff = 30000,\n",
    "                                        nfft = 512,\n",
    "                                        win_len = 0.02,\n",
    "                                        win_hop = 0.015,\n",
    "                                        win_type = 'hamming',\n",
    "                                        debug = False)\n",
    "    diff = np.abs(dom_freq[:-1] - dom_freq[1:])\n",
    "    min_max = dom_freq.max() - dom_freq.min()\n",
    "    if min_max == 0:\n",
    "        mod_id = 0\n",
    "    else:\n",
    "        mod_id = diff.mean()/min_max\n",
    "    \n",
    "    dom_mean = dom_freq.mean()\n",
    "    dom_min = dom_freq.min()\n",
    "    dom_max = dom_freq.max()\n",
    "    dom_max_min = dom_max - dom_min\n",
    "    \n",
    "    \n",
    "    result_d = {\n",
    "        'mean': mean,\n",
    "        'sd': sd,\n",
    "        'median': median,\n",
    "        'mode_val': mode_val,\n",
    "        'Q25': Q25,\n",
    "        'Q75': Q75,\n",
    "        'IQR': IQR,\n",
    "        'skew': skew,\n",
    "        'kurt': kurt,\n",
    "        'sp.ent':sp_entr,\n",
    "        'sfm' : spectral_flatness,\n",
    "        'fft_mode' : fft_mode,\n",
    "        'fft_max' :fft_mode_max,\n",
    "        'fft_min' : fft_mode_min,\n",
    "        'centroid' : spectral_centroid,\n",
    "        'peakf' : peakf,\n",
    "        'mnf' : mnf,\n",
    "        'meanf' : meanf,\n",
    "        'minf' : minf,\n",
    "        'maxf' : maxf,\n",
    "        'modid' : mod_id,\n",
    "        'dom_mean' : dom_mean,\n",
    "        'dom_max' : dom_max,\n",
    "        'dom_min' : dom_min,\n",
    "        'dom_max_min' : dom_max_min\n",
    "    }\n",
    "\n",
    "    return result_d"
   ]
  },
  {
   "cell_type": "code",
   "execution_count": null,
   "metadata": {},
   "outputs": [],
   "source": []
  },
  {
   "cell_type": "code",
   "execution_count": 319,
   "metadata": {},
   "outputs": [],
   "source": [
    "df_info = pd.read_csv('../CREMA-D/SentenceFilenames.csv')\n",
    "df_demo = pd.read_csv('../CREMA-D/VideoDemographics.csv')"
   ]
  },
  {
   "cell_type": "code",
   "execution_count": 320,
   "metadata": {},
   "outputs": [],
   "source": [
    "def find_sex(id : np.int64):\n",
    "    return df_demo[df_demo[\"ActorID\"]==id][\"Sex\"]"
   ]
  },
  {
   "cell_type": "code",
   "execution_count": 322,
   "metadata": {},
   "outputs": [],
   "source": [
    "sample_rate = 22000"
   ]
  },
  {
   "cell_type": "code",
   "execution_count": 323,
   "metadata": {},
   "outputs": [
    {
     "data": {
      "text/plain": [
       "660.0"
      ]
     },
     "execution_count": 323,
     "metadata": {},
     "output_type": "execute_result"
    }
   ],
   "source": [
    "sample_rate * 0.03"
   ]
  },
  {
   "cell_type": "code",
   "execution_count": 457,
   "metadata": {},
   "outputs": [
    {
     "name": "stderr",
     "output_type": "stream",
     "text": [
      "100%|██████████| 7442/7442 [15:24<00:00,  8.05it/s]\n"
     ]
    }
   ],
   "source": [
    "import warnings\n",
    "warnings.filterwarnings('ignore')\n",
    "\n",
    "data_folder = '../CREMA-D/AudioWAV/'\n",
    "list_of_data = []\n",
    "names = []\n",
    "labels = []\n",
    "for each in tqdm(os.listdir(data_folder)):\n",
    "\n",
    "    sample, sample_rate = librosa.load(data_folder + each)\n",
    "  #  sample_rate = 22000\n",
    "    smp = spectral_properties(sample,sample_rate)\n",
    "    names = list(smp.keys()) + [\"label\"]\n",
    "    lb = find_sex(int(re.findall(r'\\d+', each)[0])).values[0]\n",
    "    labels.append(lb)\n",
    "    list_of_data.append(list(smp.values()) + [lb])"
   ]
  },
  {
   "cell_type": "code",
   "execution_count": 465,
   "metadata": {},
   "outputs": [],
   "source": [
    "base = list_of_data.copy()"
   ]
  },
  {
   "cell_type": "code",
   "execution_count": 466,
   "metadata": {},
   "outputs": [],
   "source": [
    "list_of_data = base.copy()"
   ]
  },
  {
   "cell_type": "code",
   "execution_count": 467,
   "metadata": {},
   "outputs": [],
   "source": [
    "df = pd.DataFrame(data = list_of_data,columns=names)"
   ]
  },
  {
   "cell_type": "code",
   "execution_count": 468,
   "metadata": {},
   "outputs": [],
   "source": [
    "from sklearn.preprocessing import StandardScaler\n",
    "from sklearn.pipeline import make_pipeline"
   ]
  },
  {
   "cell_type": "code",
   "execution_count": 469,
   "metadata": {},
   "outputs": [
    {
     "data": {
      "text/html": [
       "<div>\n",
       "<style scoped>\n",
       "    .dataframe tbody tr th:only-of-type {\n",
       "        vertical-align: middle;\n",
       "    }\n",
       "\n",
       "    .dataframe tbody tr th {\n",
       "        vertical-align: top;\n",
       "    }\n",
       "\n",
       "    .dataframe thead th {\n",
       "        text-align: right;\n",
       "    }\n",
       "</style>\n",
       "<table border=\"1\" class=\"dataframe\">\n",
       "  <thead>\n",
       "    <tr style=\"text-align: right;\">\n",
       "      <th></th>\n",
       "      <th>mean</th>\n",
       "      <th>sd</th>\n",
       "      <th>median</th>\n",
       "      <th>mode_val</th>\n",
       "      <th>Q25</th>\n",
       "      <th>Q75</th>\n",
       "      <th>IQR</th>\n",
       "      <th>skew</th>\n",
       "      <th>kurt</th>\n",
       "      <th>sp.ent</th>\n",
       "      <th>...</th>\n",
       "      <th>mnf</th>\n",
       "      <th>meanf</th>\n",
       "      <th>minf</th>\n",
       "      <th>maxf</th>\n",
       "      <th>modid</th>\n",
       "      <th>dom_mean</th>\n",
       "      <th>dom_max</th>\n",
       "      <th>dom_min</th>\n",
       "      <th>dom_max_min</th>\n",
       "      <th>label</th>\n",
       "    </tr>\n",
       "  </thead>\n",
       "  <tbody>\n",
       "    <tr>\n",
       "      <th>0</th>\n",
       "      <td>3123.714325</td>\n",
       "      <td>2776.661750</td>\n",
       "      <td>2493.191221</td>\n",
       "      <td>225.652096</td>\n",
       "      <td>285.150207</td>\n",
       "      <td>6052.941176</td>\n",
       "      <td>5767.790970</td>\n",
       "      <td>10.325403</td>\n",
       "      <td>172.263410</td>\n",
       "      <td>0.900765</td>\n",
       "      <td>...</td>\n",
       "      <td>5512.389818</td>\n",
       "      <td>177.783670</td>\n",
       "      <td>0.0</td>\n",
       "      <td>200.454545</td>\n",
       "      <td>0.111111</td>\n",
       "      <td>699.800000</td>\n",
       "      <td>5363.0</td>\n",
       "      <td>1.0</td>\n",
       "      <td>5362.0</td>\n",
       "      <td>Female</td>\n",
       "    </tr>\n",
       "    <tr>\n",
       "      <th>1</th>\n",
       "      <td>1755.664449</td>\n",
       "      <td>2350.503794</td>\n",
       "      <td>413.008993</td>\n",
       "      <td>220.873597</td>\n",
       "      <td>185.566665</td>\n",
       "      <td>2928.012065</td>\n",
       "      <td>2742.445400</td>\n",
       "      <td>9.883651</td>\n",
       "      <td>152.125737</td>\n",
       "      <td>0.849399</td>\n",
       "      <td>...</td>\n",
       "      <td>5512.397364</td>\n",
       "      <td>133.302410</td>\n",
       "      <td>0.0</td>\n",
       "      <td>200.454545</td>\n",
       "      <td>0.125000</td>\n",
       "      <td>172.111111</td>\n",
       "      <td>344.0</td>\n",
       "      <td>1.0</td>\n",
       "      <td>343.0</td>\n",
       "      <td>Female</td>\n",
       "    </tr>\n",
       "    <tr>\n",
       "      <th>2</th>\n",
       "      <td>1902.088347</td>\n",
       "      <td>2157.992567</td>\n",
       "      <td>811.710824</td>\n",
       "      <td>478.668785</td>\n",
       "      <td>479.090892</td>\n",
       "      <td>2435.132471</td>\n",
       "      <td>1956.041579</td>\n",
       "      <td>5.459985</td>\n",
       "      <td>42.105785</td>\n",
       "      <td>0.878289</td>\n",
       "      <td>...</td>\n",
       "      <td>5512.500000</td>\n",
       "      <td>164.437844</td>\n",
       "      <td>0.0</td>\n",
       "      <td>200.454545</td>\n",
       "      <td>0.041667</td>\n",
       "      <td>807.000000</td>\n",
       "      <td>3776.0</td>\n",
       "      <td>1.0</td>\n",
       "      <td>3775.0</td>\n",
       "      <td>Female</td>\n",
       "    </tr>\n",
       "    <tr>\n",
       "      <th>3</th>\n",
       "      <td>1365.668177</td>\n",
       "      <td>1925.862107</td>\n",
       "      <td>508.437133</td>\n",
       "      <td>261.908843</td>\n",
       "      <td>229.389960</td>\n",
       "      <td>1444.453634</td>\n",
       "      <td>1215.063675</td>\n",
       "      <td>9.831893</td>\n",
       "      <td>161.079525</td>\n",
       "      <td>0.837142</td>\n",
       "      <td>...</td>\n",
       "      <td>5512.390139</td>\n",
       "      <td>147.891693</td>\n",
       "      <td>0.0</td>\n",
       "      <td>200.454545</td>\n",
       "      <td>0.100000</td>\n",
       "      <td>386.545455</td>\n",
       "      <td>2017.0</td>\n",
       "      <td>1.0</td>\n",
       "      <td>2016.0</td>\n",
       "      <td>Female</td>\n",
       "    </tr>\n",
       "    <tr>\n",
       "      <th>4</th>\n",
       "      <td>1335.107028</td>\n",
       "      <td>1496.630294</td>\n",
       "      <td>704.061853</td>\n",
       "      <td>557.901010</td>\n",
       "      <td>463.841666</td>\n",
       "      <td>1609.152500</td>\n",
       "      <td>1145.310834</td>\n",
       "      <td>6.952778</td>\n",
       "      <td>64.861993</td>\n",
       "      <td>0.839737</td>\n",
       "      <td>...</td>\n",
       "      <td>5512.384731</td>\n",
       "      <td>166.020656</td>\n",
       "      <td>0.0</td>\n",
       "      <td>200.454545</td>\n",
       "      <td>0.050000</td>\n",
       "      <td>564.285714</td>\n",
       "      <td>2274.0</td>\n",
       "      <td>1.0</td>\n",
       "      <td>2273.0</td>\n",
       "      <td>Female</td>\n",
       "    </tr>\n",
       "  </tbody>\n",
       "</table>\n",
       "<p>5 rows × 26 columns</p>\n",
       "</div>"
      ],
      "text/plain": [
       "          mean           sd       median    mode_val         Q25          Q75  \\\n",
       "0  3123.714325  2776.661750  2493.191221  225.652096  285.150207  6052.941176   \n",
       "1  1755.664449  2350.503794   413.008993  220.873597  185.566665  2928.012065   \n",
       "2  1902.088347  2157.992567   811.710824  478.668785  479.090892  2435.132471   \n",
       "3  1365.668177  1925.862107   508.437133  261.908843  229.389960  1444.453634   \n",
       "4  1335.107028  1496.630294   704.061853  557.901010  463.841666  1609.152500   \n",
       "\n",
       "           IQR       skew        kurt    sp.ent  ...          mnf       meanf  \\\n",
       "0  5767.790970  10.325403  172.263410  0.900765  ...  5512.389818  177.783670   \n",
       "1  2742.445400   9.883651  152.125737  0.849399  ...  5512.397364  133.302410   \n",
       "2  1956.041579   5.459985   42.105785  0.878289  ...  5512.500000  164.437844   \n",
       "3  1215.063675   9.831893  161.079525  0.837142  ...  5512.390139  147.891693   \n",
       "4  1145.310834   6.952778   64.861993  0.839737  ...  5512.384731  166.020656   \n",
       "\n",
       "   minf        maxf     modid    dom_mean  dom_max  dom_min  dom_max_min  \\\n",
       "0   0.0  200.454545  0.111111  699.800000   5363.0      1.0       5362.0   \n",
       "1   0.0  200.454545  0.125000  172.111111    344.0      1.0        343.0   \n",
       "2   0.0  200.454545  0.041667  807.000000   3776.0      1.0       3775.0   \n",
       "3   0.0  200.454545  0.100000  386.545455   2017.0      1.0       2016.0   \n",
       "4   0.0  200.454545  0.050000  564.285714   2274.0      1.0       2273.0   \n",
       "\n",
       "    label  \n",
       "0  Female  \n",
       "1  Female  \n",
       "2  Female  \n",
       "3  Female  \n",
       "4  Female  \n",
       "\n",
       "[5 rows x 26 columns]"
      ]
     },
     "execution_count": 469,
     "metadata": {},
     "output_type": "execute_result"
    }
   ],
   "source": [
    "df.head()"
   ]
  },
  {
   "cell_type": "code",
   "execution_count": 470,
   "metadata": {},
   "outputs": [],
   "source": [
    "df.to_csv(\"ExtractedFeatures.csv\")"
   ]
  },
  {
   "cell_type": "code",
   "execution_count": 471,
   "metadata": {},
   "outputs": [],
   "source": [
    "df = pd.read_csv(\"ExtractedFeatures.csv\")"
   ]
  },
  {
   "cell_type": "code",
   "execution_count": 423,
   "metadata": {},
   "outputs": [],
   "source": [
    "df.dropna(inplace=True)"
   ]
  },
  {
   "cell_type": "code",
   "execution_count": 437,
   "metadata": {},
   "outputs": [
    {
     "name": "stderr",
     "output_type": "stream",
     "text": [
      "100%|██████████| 7442/7442 [19:26<00:00,  6.38it/s]\n"
     ]
    }
   ],
   "source": [
    "import warnings\n",
    "warnings.filterwarnings('ignore')\n",
    "\n",
    "data_folder = '../CREMA-D/AudioWAV/'\n",
    "list_of_data = []\n",
    "names = []\n",
    "labels = []\n",
    "for each in tqdm(os.listdir(data_folder)):\n",
    "\n",
    "    sample, sample_rate = librosa.load(data_folder + each)\n",
    "    sample_rate = 22000\n",
    "    smp = extract_feats(sample,sample_rate)\n",
    "    names = list(smp.keys()) + [\"label\"]\n",
    "    lb = find_sex(int(re.findall(r'\\d+', each)[0])).values[0]\n",
    "    labels.append(lb)\n",
    "    list_of_data.append(list(smp.values()) + [lb])"
   ]
  },
  {
   "cell_type": "code",
   "execution_count": 438,
   "metadata": {},
   "outputs": [],
   "source": [
    "def transform_loss():\n",
    "    for indx in range(len(list_of_data)):\n",
    "        lst = []\n",
    "        for each in list_of_data[indx]:\n",
    "            if type(each) == list or type(each) ==np.ndarray:\n",
    "                continue\n",
    "            if type(each) == tuple:\n",
    "                continue\n",
    "            if type(each) == np.complex128:\n",
    "                continue            \n",
    "            lst.append(each)\n",
    "        list_of_data[indx] = lst\n",
    "g = 0\n",
    "def transform():\n",
    "    for indx in range(len(list_of_data)):\n",
    "        lst = []\n",
    "        for each in list_of_data[indx]:\n",
    "            if type(each) == list or type(each) ==np.ndarray:\n",
    "                if(len(each) == 0):\n",
    "                    continue\n",
    "                else:\n",
    "                    lst.append(np.max(each))\n",
    "                    lst.append(np.min(each))\n",
    "                    lst.append(np.mean(each))\n",
    "                    lst.append(np.argmax(each))\n",
    "                    lst.append(np.argmin(each))\n",
    "                    lst.append(int(stats.mode(each).mode))\n",
    "                    continue\n",
    "            if type(each) == tuple:\n",
    "                rl,bl = each\n",
    "                each = rl\n",
    "                \n",
    "            if type(each) == np.complex128:\n",
    "                each = each.real\n",
    "                \n",
    "            lst.append(each)\n",
    "        list_of_data[indx] = lst"
   ]
  },
  {
   "cell_type": "code",
   "execution_count": 439,
   "metadata": {},
   "outputs": [],
   "source": [
    "base2 = list_of_data.copy()"
   ]
  },
  {
   "cell_type": "code",
   "execution_count": 441,
   "metadata": {},
   "outputs": [],
   "source": [
    "list_of_data = base2.copy()"
   ]
  },
  {
   "cell_type": "code",
   "execution_count": 442,
   "metadata": {},
   "outputs": [],
   "source": [
    "transform()\n",
    "transform()"
   ]
  },
  {
   "cell_type": "code",
   "execution_count": 443,
   "metadata": {},
   "outputs": [],
   "source": [
    "df = pd.DataFrame(data = list_of_data)"
   ]
  },
  {
   "cell_type": "code",
   "execution_count": 444,
   "metadata": {},
   "outputs": [],
   "source": [
    "df.dropna(inplace=True)"
   ]
  },
  {
   "cell_type": "code",
   "execution_count": 446,
   "metadata": {},
   "outputs": [],
   "source": [
    "df.to_csv(\"ExtractedFeatures2.csv\")"
   ]
  },
  {
   "cell_type": "code",
   "execution_count": null,
   "metadata": {},
   "outputs": [],
   "source": []
  }
 ],
 "metadata": {
  "interpreter": {
   "hash": "36cf16204b8548560b1c020c4e8fb5b57f0e4c58016f52f2d4be01e192833930"
  },
  "kernelspec": {
   "display_name": "Python 3.9.12 64-bit",
   "language": "python",
   "name": "python3"
  },
  "language_info": {
   "codemirror_mode": {
    "name": "ipython",
    "version": 3
   },
   "file_extension": ".py",
   "mimetype": "text/x-python",
   "name": "python",
   "nbconvert_exporter": "python",
   "pygments_lexer": "ipython3",
   "version": "3.9.12"
  },
  "orig_nbformat": 4
 },
 "nbformat": 4,
 "nbformat_minor": 2
}

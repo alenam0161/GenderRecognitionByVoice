{
 "cells": [
  {
   "cell_type": "code",
   "execution_count": null,
   "metadata": {},
   "outputs": [],
   "source": [
    "import wave\n",
    "import sys\n",
    "import matplotlib.pyplot as plt\n",
    "from scipy.io.wavfile import read\n",
    "import librosa.display\n",
    "import numpy as np\n",
    "from scipy import stats\n",
    "from spafe.frequencies.fundamental_frequencies import FundamentalFrequenciesExtractor\n",
    "from spafe.frequencies.dominant_frequencies import get_dominant_frequencies \n",
    "from scipy.fft import fft,fftfreq,fftshift\n",
    "import librosa\n",
    "import os\n",
    "import pandas as pd\n",
    "from tqdm import tqdm\n",
    "import re"
   ]
  },
  {
   "cell_type": "code",
   "execution_count": null,
   "metadata": {},
   "outputs": [],
   "source": []
  },
  {
   "cell_type": "code",
   "execution_count": null,
   "metadata": {},
   "outputs": [],
   "source": [
    "def spectral_properties(y: np.ndarray, fs: int) -> dict:\n",
    "    \"\"\" This function takes signal and its rate,\n",
    "    Outputs the feature values which we are going to explain here\"\"\"\n",
    "    spec = np.abs(np.fft.rfft(y)) # Uses one dimensional Fast Furie Transformation and finds the absolute value of it \n",
    "    freq = np.fft.rfftfreq(len(y), d=1 / fs) # Discrete fast furie transformation\n",
    "    amp = spec / spec.sum()\n",
    "    mean = (freq * amp).sum()\n",
    "    sd = np.sqrt(np.sum(amp * ((freq - mean) ** 2)))\n",
    "    amp_cumsum = np.cumsum(amp)\n",
    "    median = freq[len(amp_cumsum[amp_cumsum <= 0.5]) + 1]\n",
    "    mode_val = freq[amp.argmax()]\n",
    "    \n",
    "    Q25 = freq[len(amp_cumsum[amp_cumsum <= 0.25]) + 1]\n",
    "    Q75 = freq[len(amp_cumsum[amp_cumsum <= 0.75]) + 1]\n",
    "    IQR = Q75 - Q25\n",
    "    z = amp - amp.mean()\n",
    "    w = amp.std()\n",
    "    skew = ((z ** 3).sum() / (len(spec) - 1)) / w ** 3\n",
    "    kurt = ((z ** 4).sum() / (len(spec) - 1)) / w ** 4\n",
    "    sp_entr = -np.sum(amp*  np.log(amp))/np.log(len(amp))\n",
    "    \n",
    "    spectral_flatness = np.mean(librosa.feature.spectral_flatness(y,))\n",
    "    \n",
    "    fft_mode = np.mean(stats.mode(freq).mode)\n",
    "    normalized_frequencies = np.linspace(0, 1, len(spec))\n",
    "    spectral_centroid = np.sum(amp * normalized_frequencies)\n",
    "    \n",
    "    peakf = max(freq)\n",
    "    \n",
    "    fund_freqs_extractor = FundamentalFrequenciesExtractor(debug = False)\n",
    "    pitches, harmonic_rates, argmins, times = fund_freqs_extractor.main(sig = y,fs = fs)\n",
    "    meanf = np.mean(pitches)\n",
    "    minf = min(pitches)\n",
    "    maxf = max(pitches)\n",
    "    \n",
    "    \n",
    "    dom_freq = get_dominant_frequencies(sig = np.array(y).reshape(-1,1),fs = int(fs),\n",
    "                                        lower_cutoff = 50,\n",
    "                                        upper_cutoff = 30000,\n",
    "                                        nfft = 512,\n",
    "                                        win_len = 0.02,\n",
    "                                        win_hop = 0.015,\n",
    "                                        win_type = 'hamming',\n",
    "                                        debug = False)\n",
    "    diff = np.abs(dom_freq[:-1] - dom_freq[1:])\n",
    "    min_max = dom_freq.max() - dom_freq.min()\n",
    "    if min_max == 0:\n",
    "        mod_id = 0\n",
    "    else:\n",
    "        mod_id = diff.mean()/min_max\n",
    "    \n",
    "    dom_mean = dom_freq.mean()\n",
    "    dom_min = dom_freq.min()\n",
    "    dom_max = dom_freq.max()\n",
    "    dom_max_min = dom_max - dom_min\n",
    "    \n",
    "    \n",
    "    result_d = {\n",
    "        'mean': mean,\n",
    "        'sd': sd,\n",
    "        'median': median,\n",
    "        'mode_val': mode_val,\n",
    "        'Q25': Q25/fs,\n",
    "        'Q75': Q75,\n",
    "        'IQR': IQR,\n",
    "        'skew': skew,\n",
    "        'kurt': kurt,\n",
    "        'sp.ent':sp_entr,\n",
    "        'sfm' : spectral_flatness,\n",
    "        'fft_mode' : fft_mode,\n",
    "        'centroid' : spectral_centroid,\n",
    "        'peakf' : peakf,\n",
    "        'meanf' : meanf,\n",
    "        'minf' : minf,\n",
    "        'maxf' : maxf,\n",
    "        'modid' : mod_id,\n",
    "        'dom_mean' : dom_mean,\n",
    "        'dom_max' : dom_max,\n",
    "        'dom_min' : dom_min,\n",
    "        'dom_max_min' : dom_max_min\n",
    "    }\n",
    "\n",
    "    return result_d"
   ]
  },
  {
   "cell_type": "code",
   "execution_count": null,
   "metadata": {},
   "outputs": [],
   "source": [
    "df_info = pd.read_csv('../CREMA-D/SentenceFilenames.csv')\n",
    "df_demo = pd.read_csv('../CREMA-D/VideoDemographics.csv')"
   ]
  },
  {
   "cell_type": "code",
   "execution_count": null,
   "metadata": {},
   "outputs": [],
   "source": [
    "def find_sex(id : np.int64):\n",
    "    return df_demo[df_demo[\"ActorID\"]==id][\"Sex\"]"
   ]
  },
  {
   "cell_type": "code",
   "execution_count": null,
   "metadata": {},
   "outputs": [],
   "source": [
    "list_of_voices = []\n",
    "\n",
    "data_folder = '../CREMA-D/AudioWAV/'\n",
    "\n",
    "for each in tqdm(os.listdir(data_folder)):\n",
    "\n",
    "    list_of_voices.append(librosa.load(data_folder + each))\n",
    "\n"
   ]
  },
  {
   "cell_type": "code",
   "execution_count": null,
   "metadata": {},
   "outputs": [],
   "source": [
    "import warnings\n",
    "warnings.filterwarnings('ignore')\n",
    "\n",
    "data_folder = '../CREMA-D/AudioWAV/'\n",
    "list_of_data = []\n",
    "names = []\n",
    "labels = []\n",
    "for each in tqdm(os.listdir(data_folder)):\n",
    "\n",
    "    sample, sample_rate = librosa.load(data_folder + each)\n",
    "    smp = spectral_properties(sample,sample_rate)\n",
    "    names = list(smp.keys()) + [\"label\"]\n",
    "    lb = find_sex(int(re.findall(r'\\d+', each)[0])).values[0]\n",
    "    labels.append(lb)\n",
    "    list_of_data.append(list(smp.values()) + [lb])\n",
    "\n"
   ]
  },
  {
   "cell_type": "code",
   "execution_count": null,
   "metadata": {},
   "outputs": [],
   "source": [
    "df = pd.DataFrame(data = list_of_data,columns=names)"
   ]
  },
  {
   "cell_type": "code",
   "execution_count": null,
   "metadata": {},
   "outputs": [],
   "source": [
    "df.to_csv(\"ExtractedFeatures.csv\")"
   ]
  },
  {
   "cell_type": "code",
   "execution_count": null,
   "metadata": {},
   "outputs": [],
   "source": [
    "df = pd.read_csv(\"ExtractedFeatures.csv\")"
   ]
  },
  {
   "cell_type": "code",
   "execution_count": null,
   "metadata": {},
   "outputs": [],
   "source": [
    "df.fillna(1e9,inplace = True)"
   ]
  },
  {
   "cell_type": "code",
   "execution_count": null,
   "metadata": {},
   "outputs": [],
   "source": [
    "X = df.drop([\"label\"],axis = 1)"
   ]
  },
  {
   "cell_type": "code",
   "execution_count": null,
   "metadata": {},
   "outputs": [],
   "source": [
    "y = df[\"label\"]"
   ]
  },
  {
   "cell_type": "code",
   "execution_count": null,
   "metadata": {},
   "outputs": [],
   "source": [
    "from sklearn.ensemble import RandomForestClassifier"
   ]
  },
  {
   "cell_type": "code",
   "execution_count": null,
   "metadata": {},
   "outputs": [],
   "source": [
    "model = RandomForestClassifier()"
   ]
  },
  {
   "cell_type": "code",
   "execution_count": null,
   "metadata": {},
   "outputs": [],
   "source": [
    "from sklearn.model_selection import train_test_split"
   ]
  },
  {
   "cell_type": "code",
   "execution_count": null,
   "metadata": {},
   "outputs": [],
   "source": [
    "X_train,X_test,y_train,y_test = train_test_split(X,y)"
   ]
  },
  {
   "cell_type": "code",
   "execution_count": null,
   "metadata": {},
   "outputs": [],
   "source": [
    "model.fit(X_train, y_train)"
   ]
  },
  {
   "cell_type": "code",
   "execution_count": null,
   "metadata": {},
   "outputs": [],
   "source": [
    "model.score(X_test,y_test)"
   ]
  },
  {
   "cell_type": "code",
   "execution_count": null,
   "metadata": {},
   "outputs": [],
   "source": []
  },
  {
   "cell_type": "code",
   "execution_count": null,
   "metadata": {},
   "outputs": [],
   "source": []
  }
 ],
 "metadata": {
  "interpreter": {
   "hash": "36cf16204b8548560b1c020c4e8fb5b57f0e4c58016f52f2d4be01e192833930"
  },
  "kernelspec": {
   "display_name": "Python 3.9.12 64-bit",
   "language": "python",
   "name": "python3"
  },
  "language_info": {
   "codemirror_mode": {
    "name": "ipython",
    "version": 3
   },
   "file_extension": ".py",
   "mimetype": "text/x-python",
   "name": "python",
   "nbconvert_exporter": "python",
   "pygments_lexer": "ipython3",
   "version": "3.9.12"
  },
  "orig_nbformat": 4
 },
 "nbformat": 4,
 "nbformat_minor": 2
}
